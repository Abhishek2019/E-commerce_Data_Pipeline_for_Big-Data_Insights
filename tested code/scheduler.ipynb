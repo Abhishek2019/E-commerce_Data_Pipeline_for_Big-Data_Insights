{
 "cells": [
  {
   "cell_type": "code",
   "execution_count": 1,
   "id": "1a9ee707-d082-4115-8777-6675bfadd221",
   "metadata": {},
   "outputs": [],
   "source": [
    "# import schedule\n",
    "# import time\n",
    "# import os\n",
    "\n",
    "# def data_generator():\n",
    "#     print(\"run\")\n",
    "\n",
    "# schedule.every(10).seconds.do(data_generator)\n",
    "\n",
    "# while 1:\n",
    "#     schedule.run_pending()\n",
    "#     time.sleep(1)"
   ]
  },
  {
   "cell_type": "code",
   "execution_count": null,
   "id": "a28f07b9-e1b5-4d70-810d-1433af5d5023",
   "metadata": {},
   "outputs": [],
   "source": []
  },
  {
   "cell_type": "code",
   "execution_count": 2,
   "id": "c129b28f-e047-4d20-967d-34bba08745c8",
   "metadata": {},
   "outputs": [
    {
     "name": "stdout",
     "output_type": "stream",
     "text": [
      "------------------- new job\n",
      "No Data for Spark Job to Execute\n",
      "------------------- job complete\n",
      "------------------- new job\n",
      "No Data for Spark Job to Execute\n",
      "------------------- job complete\n",
      "------------------- new job\n",
      "Waiting for previous job to complete\n",
      "Got use Loc for Spark Cluster\n",
      "Length of the data :  134\n"
     ]
    },
    {
     "name": "stderr",
     "output_type": "stream",
     "text": [
      "WARNING: An illegal reflective access operation has occurred\n",
      "WARNING: Illegal reflective access by org.apache.spark.unsafe.Platform (file:/home/exouser/spark-3.2.4/assembly/target/scala-2.12/jars/spark-unsafe_2.12-3.2.4.jar) to constructor java.nio.DirectByteBuffer(long,int)\n",
      "WARNING: Please consider reporting this to the maintainers of org.apache.spark.unsafe.Platform\n",
      "WARNING: Use --illegal-access=warn to enable warnings of further illegal reflective access operations\n",
      "WARNING: All illegal access operations will be denied in a future release\n",
      "Using Spark's default log4j profile: org/apache/spark/log4j-defaults.properties\n",
      "Setting default log level to \"WARN\".\n",
      "To adjust logging level use sc.setLogLevel(newLevel). For SparkR, use setLogLevel(newLevel).\n",
      "24/04/19 18:11:05 WARN NativeCodeLoader: Unable to load native-hadoop library for your platform... using builtin-java classes where applicable\n",
      "                                                                                \r"
     ]
    },
    {
     "name": "stdout",
     "output_type": "stream",
     "text": [
      "------------------- job complete\n",
      "------------------- new job\n",
      "Waiting for previous job to complete\n",
      "Got use Loc for Spark Cluster\n",
      "Length of the data :  1365\n"
     ]
    },
    {
     "name": "stderr",
     "output_type": "stream",
     "text": [
      "                                                                                \r"
     ]
    },
    {
     "name": "stdout",
     "output_type": "stream",
     "text": [
      "------------------- job complete\n",
      "------------------- new job\n",
      "Waiting for previous job to complete\n",
      "Got use Loc for Spark Cluster\n",
      "Length of the data :  998\n"
     ]
    },
    {
     "name": "stderr",
     "output_type": "stream",
     "text": [
      "                                                                                \r"
     ]
    },
    {
     "name": "stdout",
     "output_type": "stream",
     "text": [
      "------------------- job complete\n",
      "------------------- new job\n",
      "Waiting for previous job to complete\n",
      "Got use Loc for Spark Cluster\n",
      "Length of the data :  1003\n"
     ]
    },
    {
     "name": "stderr",
     "output_type": "stream",
     "text": [
      "                                                                                \r"
     ]
    },
    {
     "name": "stdout",
     "output_type": "stream",
     "text": [
      "------------------- job complete\n",
      "------------------- new job\n",
      "Waiting for previous job to complete\n",
      "Got use Loc for Spark Cluster\n",
      "Length of the data :  996\n"
     ]
    },
    {
     "name": "stderr",
     "output_type": "stream",
     "text": [
      "                                                                                \r"
     ]
    },
    {
     "name": "stdout",
     "output_type": "stream",
     "text": [
      "------------------- job complete\n",
      "------------------- new job\n",
      "Waiting for previous job to complete\n",
      "Got use Loc for Spark Cluster\n",
      "Length of the data :  1002\n"
     ]
    },
    {
     "name": "stderr",
     "output_type": "stream",
     "text": [
      "                                                                                \r"
     ]
    },
    {
     "name": "stdout",
     "output_type": "stream",
     "text": [
      "------------------- job complete\n",
      "------------------- new job\n",
      "Waiting for previous job to complete\n",
      "Got use Loc for Spark Cluster\n",
      "Length of the data :  1001\n"
     ]
    },
    {
     "name": "stderr",
     "output_type": "stream",
     "text": [
      "                                                                                \r"
     ]
    },
    {
     "name": "stdout",
     "output_type": "stream",
     "text": [
      "------------------- job complete\n",
      "------------------- new job\n",
      "Waiting for previous job to complete\n",
      "Got use Loc for Spark Cluster\n",
      "Length of the data :  1000\n"
     ]
    },
    {
     "name": "stderr",
     "output_type": "stream",
     "text": [
      "                                                                                \r"
     ]
    },
    {
     "name": "stdout",
     "output_type": "stream",
     "text": [
      "------------------- job complete\n",
      "------------------- new job\n",
      "Waiting for previous job to complete\n",
      "Got use Loc for Spark Cluster\n",
      "Length of the data :  995\n"
     ]
    },
    {
     "name": "stderr",
     "output_type": "stream",
     "text": [
      "                                                                                \r"
     ]
    },
    {
     "name": "stdout",
     "output_type": "stream",
     "text": [
      "------------------- job complete\n",
      "------------------- new job\n",
      "Waiting for previous job to complete\n",
      "Got use Loc for Spark Cluster\n",
      "Length of the data :  1004\n"
     ]
    },
    {
     "name": "stderr",
     "output_type": "stream",
     "text": [
      "                                                                                \r"
     ]
    },
    {
     "name": "stdout",
     "output_type": "stream",
     "text": [
      "------------------- job complete\n",
      "------------------- new job\n",
      "Waiting for previous job to complete\n",
      "Got use Loc for Spark Cluster\n",
      "Length of the data :  998\n"
     ]
    },
    {
     "name": "stderr",
     "output_type": "stream",
     "text": [
      "                                                                                \r"
     ]
    },
    {
     "name": "stdout",
     "output_type": "stream",
     "text": [
      "------------------- job complete\n",
      "------------------- new job\n",
      "Waiting for previous job to complete\n",
      "Got use Loc for Spark Cluster\n",
      "Length of the data :  4\n"
     ]
    },
    {
     "name": "stderr",
     "output_type": "stream",
     "text": [
      "                                                                                \r"
     ]
    },
    {
     "name": "stdout",
     "output_type": "stream",
     "text": [
      "------------------- job complete\n",
      "------------------- new job\n",
      "No Data for Spark Job to Execute\n",
      "------------------- job complete\n"
     ]
    },
    {
     "ename": "AttributeError",
     "evalue": "'NoneType' object has no attribute 'sc'",
     "output_type": "error",
     "traceback": [
      "\u001b[0;31m---------------------------------------------------------------------------\u001b[0m",
      "\u001b[0;31mAttributeError\u001b[0m                            Traceback (most recent call last)",
      "Cell \u001b[0;32mIn[2], line 106\u001b[0m\n\u001b[1;32m    104\u001b[0m \u001b[38;5;28;01mwhile\u001b[39;00m \u001b[38;5;241m1\u001b[39m:\n\u001b[1;32m    105\u001b[0m     schedule\u001b[38;5;241m.\u001b[39mrun_pending()\n\u001b[0;32m--> 106\u001b[0m     \u001b[43mtime\u001b[49m\u001b[38;5;241;43m.\u001b[39;49m\u001b[43msleep\u001b[49m\u001b[43m(\u001b[49m\u001b[38;5;241;43m1\u001b[39;49m\u001b[43m)\u001b[49m\n",
      "File \u001b[0;32m~/jupEnv/lib/python3.10/site-packages/pyspark/context.py:292\u001b[0m, in \u001b[0;36mSparkContext._do_init.<locals>.signal_handler\u001b[0;34m(signal, frame)\u001b[0m\n\u001b[1;32m    291\u001b[0m \u001b[38;5;28;01mdef\u001b[39;00m \u001b[38;5;21msignal_handler\u001b[39m(signal, frame):\n\u001b[0;32m--> 292\u001b[0m     \u001b[38;5;28;43mself\u001b[39;49m\u001b[38;5;241;43m.\u001b[39;49m\u001b[43mcancelAllJobs\u001b[49m\u001b[43m(\u001b[49m\u001b[43m)\u001b[49m\n\u001b[1;32m    293\u001b[0m     \u001b[38;5;28;01mraise\u001b[39;00m \u001b[38;5;167;01mKeyboardInterrupt\u001b[39;00m()\n",
      "File \u001b[0;32m~/jupEnv/lib/python3.10/site-packages/pyspark/context.py:1195\u001b[0m, in \u001b[0;36mSparkContext.cancelAllJobs\u001b[0;34m(self)\u001b[0m\n\u001b[1;32m   1191\u001b[0m \u001b[38;5;28;01mdef\u001b[39;00m \u001b[38;5;21mcancelAllJobs\u001b[39m(\u001b[38;5;28mself\u001b[39m):\n\u001b[1;32m   1192\u001b[0m \u001b[38;5;250m    \u001b[39m\u001b[38;5;124;03m\"\"\"\u001b[39;00m\n\u001b[1;32m   1193\u001b[0m \u001b[38;5;124;03m    Cancel all jobs that have been scheduled or are running.\u001b[39;00m\n\u001b[1;32m   1194\u001b[0m \u001b[38;5;124;03m    \"\"\"\u001b[39;00m\n\u001b[0;32m-> 1195\u001b[0m     \u001b[38;5;28;43mself\u001b[39;49m\u001b[38;5;241;43m.\u001b[39;49m\u001b[43m_jsc\u001b[49m\u001b[38;5;241;43m.\u001b[39;49m\u001b[43msc\u001b[49m()\u001b[38;5;241m.\u001b[39mcancelAllJobs()\n",
      "\u001b[0;31mAttributeError\u001b[0m: 'NoneType' object has no attribute 'sc'"
     ]
    }
   ],
   "source": [
    "import pyspark\n",
    "from pyspark.sql import SparkSession\n",
    "from pyspark.sql import Row\n",
    "from pyspark.context import SparkContext\n",
    "\n",
    "from LockQueue_module import LockQueue\n",
    "from SparkClusterJob import SparkClusterJob\n",
    "\n",
    "import string\n",
    "from pymongo import MongoClient\n",
    "import pandas as pd\n",
    "import schedule\n",
    "import time\n",
    "import os\n",
    "\n",
    "# import json\n",
    "# from bson import ObjectId\n",
    "\n",
    "# class JSONEncoder(json.JSONEncoder):\n",
    "#     def default(self, o):\n",
    "#         if isinstance(o, ObjectId):\n",
    "#             return str(o)\n",
    "#         return json.JSONEncoder.default(self, o)\n",
    "\n",
    "class DataHolder:\n",
    "\n",
    "    data = []\n",
    "\n",
    "\n",
    "\n",
    "def cleaning_func(x):\n",
    "\n",
    "    # lower case\n",
    "    # replace & with and\n",
    "    # remove punctuation\n",
    "    \n",
    "    x[\"title\"] = x[\"title\"].lower().replace(\"&\",\"and\").translate(str.maketrans('', '', string.punctuation))\n",
    "    if str(x[\"current_price\"]).lower() == 'nan':\n",
    "        x[\"current_price\"] = 0\n",
    "\n",
    "    if str(x[\"previous_price\"]).lower() == 'nan':\n",
    "        x[\"previous_price\"] = 0\n",
    "\n",
    "    return x\n",
    "    # return JSONEncoder().encode(x[\"fullDocument\"])\n",
    "\n",
    "def execute_spark_job():\n",
    "    print(\"------------------- new job\")\n",
    "    lq = LockQueue()\n",
    "    \n",
    "    dh = DataHolder()\n",
    "    \n",
    "    while True:\n",
    "        dh.data = lq.get_read_queue()\n",
    "    \n",
    "        if(type(dh.data) == type([])):\n",
    "            break\n",
    "            \n",
    "    if(dh.data !=[]):\n",
    "    \n",
    "        scj = SparkClusterJob()\n",
    "    \n",
    "        while True:\n",
    "            print(\"Waiting for previous job to complete\")\n",
    "            if scj.set_job_status():\n",
    "                print(\"Got use Loc for Spark Cluster\")\n",
    "                break\n",
    "    \n",
    "        \n",
    "        print(\"Length of the data : \",len(dh.data))\n",
    "    \n",
    "        \n",
    "        spark = SparkSession \\\n",
    "        .builder \\\n",
    "        .appName(\"mongodbtest1\") \\\n",
    "        .master(\"spark://10.1.174.144:7077\")\\\n",
    "        .getOrCreate()\n",
    "        # .config(\"spark.mongodb.read.uri\", \"mongodb://abhi_1:60000/shardDB.asofashion_2\") \\\n",
    "        # .config(\"spark.mongodb.write.uri\", \"mongodb://abhi_1:60000/shardDB.asofashion_clean\") \\\n",
    "        # .config('spark.jars.packages', 'org.mongodb.spark:mongo-spark-connector_2.13:10.2.2') \\\n",
    "        # .getOrCreate()\n",
    "    \n",
    "        clean_doc = spark.sparkContext.parallelize(dh.data).map(cleaning_func).collect()\n",
    "    \n",
    "        client = MongoClient(\"149.165.172.75\", 60000)\n",
    "        db = client.shardDB\n",
    "        \n",
    "        collection = db[\"asofashion_clean\"]\n",
    "    \n",
    "    \n",
    "        collection.insert_many(clean_doc)\n",
    "        spark.stop()\n",
    "        scj.release_job_status()\n",
    "    \n",
    "        \n",
    "    else:\n",
    "        pass\n",
    "        print(\"No Data for Spark Job to Execute\")\n",
    "\n",
    "    print(\"------------------- job complete\")\n",
    "\n",
    "schedule.every(37).seconds.do(execute_spark_job)\n",
    "\n",
    "while 1:\n",
    "    schedule.run_pending()\n",
    "    time.sleep(1)\n",
    "\n",
    "\n",
    "\n",
    "\n"
   ]
  },
  {
   "cell_type": "code",
   "execution_count": null,
   "id": "f7a8e875-de64-46cc-9b52-b038f77f0dac",
   "metadata": {},
   "outputs": [],
   "source": []
  },
  {
   "cell_type": "code",
   "execution_count": 8,
   "id": "a560f05e-b1fe-4d77-a1cc-48265822a08e",
   "metadata": {},
   "outputs": [],
   "source": [
    "import pickle\n",
    "\n",
    "with open(\"queue.pkl\",\"wb\") as f:\n",
    "    pickle.dump([],f)"
   ]
  },
  {
   "cell_type": "code",
   "execution_count": 9,
   "id": "ca6ff6e3-165b-4bf8-89aa-d93035a1cf60",
   "metadata": {},
   "outputs": [
    {
     "name": "stdout",
     "output_type": "stream",
     "text": [
      "[]\n"
     ]
    }
   ],
   "source": [
    "import pickle\n",
    "\n",
    "with open(\"queue.pkl\",\"rb\") as f:\n",
    "    r = pickle.load(f)\n",
    "    print(r)"
   ]
  },
  {
   "cell_type": "code",
   "execution_count": null,
   "id": "b028d166-a131-46eb-93bc-be3f49ea8f35",
   "metadata": {},
   "outputs": [],
   "source": []
  },
  {
   "cell_type": "code",
   "execution_count": null,
   "id": "4c452515-93b1-41dc-8a36-dc2545da8245",
   "metadata": {},
   "outputs": [],
   "source": [
    "# import gzip\n",
    "# import ubjson\n",
    "\n",
    "\n",
    "# for _ in range(1,10000):\n",
    "\n",
    "#     with gzip.open(\"/home/exouser/spark_pyjobs/queue.pkl\", 'rb') as f:\n",
    "#         l = ubjson.load(f)\n",
    "#         # print(len(l))\n",
    "    \n",
    "#     with gzip.open(\"/home/exouser/spark_pyjobs/queue.pkl\", 'wb') as f:\n",
    "#         ubjson.dump(l+[{'_id': \"ObjectId('66199e713b0b0281eac0d129')\", 'product_id': 202091136, 'brand_name': 'adidas Originals', 'title': 'adidas Originals Adventure mountain t-shirt in black', 'current_price': 31.58, 'previous_price': 52.11, 'colour': \"nan\", 'currency': 'USD', 'rrp': \"nan\", 'productCode': 115601763, 'productType': 'Product', 'gender': 'male'} ]\n",
    "#     , f)"
   ]
  },
  {
   "cell_type": "code",
   "execution_count": null,
   "id": "6e7ad487-ab88-4f81-974f-80b4b1c90d3d",
   "metadata": {},
   "outputs": [],
   "source": [
    "# with gzip.open(\"/home/exouser/spark_pyjobs/queue.pkl\", 'rb') as f:\n",
    "#     l = ubjson.load(f)\n",
    "#     print(len(l))"
   ]
  },
  {
   "cell_type": "code",
   "execution_count": null,
   "id": "1e9d8a21-7715-4f01-858e-c013792665cb",
   "metadata": {},
   "outputs": [],
   "source": []
  },
  {
   "cell_type": "code",
   "execution_count": null,
   "id": "0af2cbf8-583d-48f1-a8d9-225a9a98dddc",
   "metadata": {},
   "outputs": [],
   "source": []
  }
 ],
 "metadata": {
  "kernelspec": {
   "display_name": "Python 3 (ipykernel)",
   "language": "python",
   "name": "python3"
  },
  "language_info": {
   "codemirror_mode": {
    "name": "ipython",
    "version": 3
   },
   "file_extension": ".py",
   "mimetype": "text/x-python",
   "name": "python",
   "nbconvert_exporter": "python",
   "pygments_lexer": "ipython3",
   "version": "3.10.12"
  }
 },
 "nbformat": 4,
 "nbformat_minor": 5
}
