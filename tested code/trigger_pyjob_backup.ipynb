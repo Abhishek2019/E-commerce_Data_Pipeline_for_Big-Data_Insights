{
 "cells": [
  {
   "cell_type": "code",
   "execution_count": 201,
   "id": "eddb6a31-fa0e-4e8b-abde-3122e03e7fca",
   "metadata": {},
   "outputs": [],
   "source": [
    "# from pyspark.sql import SparkSession\n",
    "# import sys\n",
    "# from random import random\n",
    "# from operator import add\n",
    "\n",
    "# spark = SparkSession.builder.master(\"spark://10.1.174.144:7077\").appName(\"PyCount Count\").getOrCreate()\n",
    "\n",
    "import pyspark\n",
    "from pyspark.sql import SparkSession\n",
    "from pyspark.sql import Row\n",
    "spark = SparkSession \\\n",
    ".builder \\\n",
    ".appName(\"mongodbtest1\") \\\n",
    ".master(\"spark://10.1.174.144:7077\")\\\n",
    ".config(\"spark.mongodb.read.uri\", \"mongodb://abhi_1:60000/shardDB.asofashion_2\") \\\n",
    ".config(\"spark.mongodb.write.uri\", \"mongodb://abhi_1:60000/shardDB.asofashion_clean\") \\\n",
    ".config('spark.jars.packages', 'org.mongodb.spark:mongo-spark-connector_2.13:10.2.2') \\\n",
    ".getOrCreate()"
   ]
  },
  {
   "cell_type": "code",
   "execution_count": 2,
   "id": "ede21510-30ce-4aea-a84b-b70a0ccdbc87",
   "metadata": {},
   "outputs": [],
   "source": [
    "# spark.stop()"
   ]
  },
  {
   "cell_type": "code",
   "execution_count": null,
   "id": "016700df-5ccc-4708-9b22-0fa1491c8fd2",
   "metadata": {
    "scrolled": true
   },
   "outputs": [],
   "source": [
    "spark"
   ]
  },
  {
   "cell_type": "markdown",
   "id": "45e5d1de-4806-45e0-87bb-47c271e98f81",
   "metadata": {},
   "source": [
    "##### Triggers"
   ]
  },
  {
   "cell_type": "code",
   "execution_count": 30,
   "id": "aeb359a4-f54b-416f-8665-3c631d81631a",
   "metadata": {},
   "outputs": [
    {
     "name": "stdout",
     "output_type": "stream",
     "text": [
      "----------------------------------------------------\n",
      "****\n",
      "<class 'pymongo.change_stream.CollectionChangeStream'>\n",
      "Error : occured\n"
     ]
    }
   ],
   "source": [
    "from pymongo import MongoClient\n",
    "import pandas as pd\n",
    "\n",
    "client = MongoClient(\"149.165.172.75\", 60000)\n",
    "db = client.shardDB\n",
    "\n",
    "collection = db[\"asofashion_2\"]\n",
    "\n",
    "try:\n",
    "    with collection.watch([{\"$match\": {\"operationType\": \"insert\"}}]) as stream:\n",
    "        for insert_doc in stream:\n",
    "            lq = LockQueue()\n",
    "            lq.write_queue([insert_doc])\n",
    "            \n",
    "            \n",
    "except:\n",
    "    # The ChangeStream encountered an unrecoverable error or the\n",
    "    # resume attempt failed to recreate the cursor.\n",
    "    print(\"Error : occured\")"
   ]
  },
  {
   "cell_type": "code",
   "execution_count": null,
   "id": "b0b5ed00-1c52-40e6-9fbb-ec064dd8128a",
   "metadata": {},
   "outputs": [],
   "source": [
    "# collection.find_one()"
   ]
  },
  {
   "cell_type": "code",
   "execution_count": null,
   "id": "4c6a14ec-f667-4084-b46a-73fdb90c5abf",
   "metadata": {},
   "outputs": [],
   "source": []
  },
  {
   "cell_type": "code",
   "execution_count": null,
   "id": "5b585dda-43e6-4500-a109-2e69ac580b40",
   "metadata": {},
   "outputs": [],
   "source": []
  },
  {
   "cell_type": "code",
   "execution_count": null,
   "id": "ddd3cecc-e1c5-4b9d-9f06-9b8a6f887029",
   "metadata": {},
   "outputs": [],
   "source": []
  },
  {
   "cell_type": "code",
   "execution_count": null,
   "id": "f51e2f2d-85ff-49f8-a892-cae02a7813b9",
   "metadata": {},
   "outputs": [],
   "source": []
  },
  {
   "cell_type": "code",
   "execution_count": null,
   "id": "2905a5a9-2a3c-4d12-b273-f3e0a25eb4df",
   "metadata": {},
   "outputs": [],
   "source": []
  },
  {
   "cell_type": "code",
   "execution_count": 42,
   "id": "2e8310c0-7fc6-467f-bfdc-e8625dcb13bd",
   "metadata": {},
   "outputs": [],
   "source": [
    "dataFrame = spark.read\\\n",
    "                 .format(\"mongodb\")\\\n",
    "                 .option(\"connection.uri\", \"mongodb://abhi_1:60000/\")\\\n",
    "                 .option(\"database\", \"shardDB\")\\\n",
    "                 .option(\"collection\", \"asofashion_2\")\\\n",
    "                 .load()"
   ]
  },
  {
   "cell_type": "code",
   "execution_count": 43,
   "id": "b126e6bf-4542-4fdc-8f92-683118396bc2",
   "metadata": {},
   "outputs": [
    {
     "name": "stderr",
     "output_type": "stream",
     "text": [
      "                                                                                \r"
     ]
    },
    {
     "data": {
      "text/plain": [
       "140"
      ]
     },
     "execution_count": 43,
     "metadata": {},
     "output_type": "execute_result"
    }
   ],
   "source": [
    "dataFrame.count()"
   ]
  },
  {
   "cell_type": "code",
   "execution_count": 109,
   "id": "90309da0-1e9f-42ce-a98e-786b2874ca26",
   "metadata": {},
   "outputs": [
    {
     "data": {
      "text/plain": [
       "[Row(_id='660f3b689c0dd3afddadd33c', brand_name='Brave Soul', colour=nan, currency='USD', current_price=23.0, gender='male', previous_price=nan, productCode=119545541, productType='Product', product_id=203081399, rrp=42.0, title='Brave Soul cotton check shirt in off white & brown')]"
      ]
     },
     "execution_count": 109,
     "metadata": {},
     "output_type": "execute_result"
    }
   ],
   "source": [
    "dataFrame.take(1)"
   ]
  },
  {
   "cell_type": "code",
   "execution_count": 101,
   "id": "0c410928-faec-4261-8889-8b44a279f08b",
   "metadata": {},
   "outputs": [],
   "source": [
    "from pyspark.sql import Row\n",
    "\n",
    "def ser(x):\n",
    "    x_dict = x.asDict()\n",
    "    x_dict[\"title\"] = x_dict[\"title\"].lower()+ \"_abcd\"\n",
    "    return Row(x_dict)"
   ]
  },
  {
   "cell_type": "code",
   "execution_count": 102,
   "id": "65cb401f-74b7-4316-b741-6301d5b1dc36",
   "metadata": {},
   "outputs": [],
   "source": [
    "k = dataFrame.rdd.map(ser)"
   ]
  },
  {
   "cell_type": "code",
   "execution_count": 103,
   "id": "7defbcd4-f17c-4d4b-8d38-194f3ade4952",
   "metadata": {},
   "outputs": [
    {
     "data": {
      "text/plain": [
       "[Row(_id='660f3b689c0dd3afddadd33d', brand_name='adidas Originals', colour=nan, currency='USD', current_price=54.72, gender='male', previous_price=99.48, productCode=114983404, productType='Product', product_id=201828775, rrp=nan, title=\"adidas originals 'sports resort' three stripe wide leg track pants in wonder white_abcd\")]"
      ]
     },
     "execution_count": 103,
     "metadata": {},
     "output_type": "execute_result"
    }
   ],
   "source": [
    "k.take(1)"
   ]
  },
  {
   "cell_type": "code",
   "execution_count": 110,
   "id": "06157413-0d2b-4631-99f5-e1b881bc7b26",
   "metadata": {},
   "outputs": [
    {
     "data": {
      "text/plain": [
       "140"
      ]
     },
     "execution_count": 110,
     "metadata": {},
     "output_type": "execute_result"
    }
   ],
   "source": [
    "k.count()"
   ]
  },
  {
   "cell_type": "code",
   "execution_count": 63,
   "id": "e2a98138-28c7-431d-80cf-a3f055dc42b0",
   "metadata": {},
   "outputs": [],
   "source": [
    "import pickle\n",
    "\n",
    "# 0: False:write\n",
    "# 1: True:read\n",
    "\n",
    "class LockQueue:\n",
    "\n",
    "    lock = True\n",
    "\n",
    "    def get_lock(self):\n",
    "        return self.lock\n",
    "\n",
    "    def set_lock(self):\n",
    "        if(self.lock):\n",
    "            self.lock = False\n",
    "            return True\n",
    "        else:\n",
    "            return False\n",
    "\n",
    "    def release_lock(self):\n",
    "        self.lock=True\n",
    "        \n",
    "\n",
    "    def get_read_queue(self):\n",
    "\n",
    "        if(self.get_lock()):\n",
    "            with open('queue.pkl', 'rb') as f:\n",
    "                return pickle.load(f)\n",
    "\n",
    "    def write_queue(self,list_to_write=[]):\n",
    "\n",
    "        while True:\n",
    "            check_lock = self.set_lock()\n",
    "            if(check_lock):\n",
    "                break\n",
    "\n",
    "        with open('queue.pkl', 'wb') as f:\n",
    "            existing_list = pickle.load(f)\n",
    "            pickle.dump(existing_list+list_to_write,f)\n",
    "        \n",
    "        self.release_lock()\n",
    "            \n",
    "        return True\n",
    "\n",
    "    def flush_queue(self):\n",
    "\n",
    "        while True:\n",
    "            check_lock = self.set_lock()\n",
    "            if(check_lock):\n",
    "                break\n",
    "\n",
    "        with open('queue.pkl', 'wb') as f:\n",
    "            pickle.dump([],f)\n",
    "        \n",
    "        self.release_lock()\n",
    "            \n",
    "        return True\n",
    "        \n",
    "        \n",
    "        \n",
    "\n",
    "\n",
    "    \n",
    "    "
   ]
  },
  {
   "cell_type": "code",
   "execution_count": 59,
   "id": "09cde5fe-a6a9-4168-b76b-0ab8f53ed275",
   "metadata": {},
   "outputs": [],
   "source": [
    "f= open('queue.pkl', 'wb')"
   ]
  },
  {
   "cell_type": "code",
   "execution_count": 60,
   "id": "00dfcd7d-3ec7-4375-9593-1a127db2ddd5",
   "metadata": {},
   "outputs": [],
   "source": [
    "pickle.dump([],f)"
   ]
  },
  {
   "cell_type": "code",
   "execution_count": 61,
   "id": "258f02a5-be99-4d3b-9e0f-686448780917",
   "metadata": {},
   "outputs": [],
   "source": [
    "f= open('queue.pkl', 'rb')"
   ]
  },
  {
   "cell_type": "code",
   "execution_count": 62,
   "id": "f60d9b65-fbdd-45dd-919d-1e7c91ebcb94",
   "metadata": {},
   "outputs": [
    {
     "data": {
      "text/plain": [
       "[]"
      ]
     },
     "execution_count": 62,
     "metadata": {},
     "output_type": "execute_result"
    }
   ],
   "source": [
    "import pickle\n",
    "pickle.load(f)"
   ]
  },
  {
   "cell_type": "code",
   "execution_count": null,
   "id": "7de8e22f-0521-4743-b9e2-bd2e0e8a50e8",
   "metadata": {},
   "outputs": [],
   "source": []
  },
  {
   "cell_type": "code",
   "execution_count": 31,
   "id": "da9fbe1e-d1c0-4b28-9dde-08eca1c943b3",
   "metadata": {},
   "outputs": [],
   "source": [
    "import queue"
   ]
  },
  {
   "cell_type": "code",
   "execution_count": 32,
   "id": "7123ffd6-e352-4a5c-aa75-114f235ff4c5",
   "metadata": {},
   "outputs": [
    {
     "data": {
      "text/plain": [
       "<module 'queue' from '/usr/lib/python3.10/queue.py'>"
      ]
     },
     "execution_count": 32,
     "metadata": {},
     "output_type": "execute_result"
    }
   ],
   "source": [
    "queue"
   ]
  },
  {
   "cell_type": "code",
   "execution_count": null,
   "id": "90b910e9-1cd4-4748-b9e8-b8d29258d8be",
   "metadata": {},
   "outputs": [],
   "source": []
  }
 ],
 "metadata": {
  "kernelspec": {
   "display_name": "Python 3 (ipykernel)",
   "language": "python",
   "name": "python3"
  },
  "language_info": {
   "codemirror_mode": {
    "name": "ipython",
    "version": 3
   },
   "file_extension": ".py",
   "mimetype": "text/x-python",
   "name": "python",
   "nbconvert_exporter": "python",
   "pygments_lexer": "ipython3",
   "version": "3.10.12"
  }
 },
 "nbformat": 4,
 "nbformat_minor": 5
}
