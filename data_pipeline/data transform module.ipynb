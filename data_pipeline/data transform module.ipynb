{
 "cells": [
  {
   "cell_type": "code",
   "execution_count": 1,
   "id": "ee8ebc00-a87e-4c91-aa40-55880fed7205",
   "metadata": {},
   "outputs": [
    {
     "name": "stdout",
     "output_type": "stream",
     "text": [
      "-------------------------------- Job\n"
     ]
    },
    {
     "name": "stderr",
     "output_type": "stream",
     "text": [
      "WARNING: An illegal reflective access operation has occurred\n",
      "WARNING: Illegal reflective access by org.apache.spark.unsafe.Platform (file:/home/exouser/spark-3.2.4/assembly/target/scala-2.12/jars/spark-unsafe_2.12-3.2.4.jar) to constructor java.nio.DirectByteBuffer(long,int)\n",
      "WARNING: Please consider reporting this to the maintainers of org.apache.spark.unsafe.Platform\n",
      "WARNING: Use --illegal-access=warn to enable warnings of further illegal reflective access operations\n",
      "WARNING: All illegal access operations will be denied in a future release\n",
      "Using Spark's default log4j profile: org/apache/spark/log4j-defaults.properties\n",
      "Setting default log level to \"WARN\".\n",
      "To adjust logging level use sc.setLogLevel(newLevel). For SparkR, use setLogLevel(newLevel).\n",
      "24/05/01 17:04:44 WARN NativeCodeLoader: Unable to load native-hadoop library for your platform... using builtin-java classes where applicable\n",
      "                                                                                \r"
     ]
    },
    {
     "name": "stdout",
     "output_type": "stream",
     "text": [
      "100\n",
      "-------------------------------- Job\n"
     ]
    },
    {
     "name": "stderr",
     "output_type": "stream",
     "text": [
      "                                                                                \r"
     ]
    },
    {
     "name": "stdout",
     "output_type": "stream",
     "text": [
      "200\n",
      "-------------------------------- Job\n"
     ]
    },
    {
     "name": "stderr",
     "output_type": "stream",
     "text": [
      "                                                                                \r"
     ]
    },
    {
     "name": "stdout",
     "output_type": "stream",
     "text": [
      "200\n",
      "-------------------------------- Job\n"
     ]
    },
    {
     "name": "stderr",
     "output_type": "stream",
     "text": [
      "                                                                                \r"
     ]
    },
    {
     "name": "stdout",
     "output_type": "stream",
     "text": [
      "200\n",
      "-------------------------------- Job\n"
     ]
    },
    {
     "name": "stderr",
     "output_type": "stream",
     "text": [
      "                                                                                \r"
     ]
    },
    {
     "name": "stdout",
     "output_type": "stream",
     "text": [
      "200\n",
      "-------------------------------- Job\n"
     ]
    },
    {
     "name": "stderr",
     "output_type": "stream",
     "text": [
      "                                                                                \r"
     ]
    },
    {
     "name": "stdout",
     "output_type": "stream",
     "text": [
      "200\n",
      "-------------------------------- Job\n"
     ]
    },
    {
     "name": "stderr",
     "output_type": "stream",
     "text": [
      "                                                                                \r"
     ]
    },
    {
     "name": "stdout",
     "output_type": "stream",
     "text": [
      "200\n",
      "-------------------------------- Job\n",
      "data is upto date\n",
      "-------------------------------- Job\n",
      "data is upto date\n",
      "-------------------------------- Job\n",
      "data is upto date\n",
      "-------------------------------- Job\n",
      "data is upto date\n",
      "-------------------------------- Job\n",
      "data is upto date\n",
      "-------------------------------- Job\n",
      "data is upto date\n",
      "-------------------------------- Job\n",
      "data is upto date\n",
      "-------------------------------- Job\n",
      "data is upto date\n"
     ]
    },
    {
     "ename": "AttributeError",
     "evalue": "'NoneType' object has no attribute 'sc'",
     "output_type": "error",
     "traceback": [
      "\u001b[0;31m---------------------------------------------------------------------------\u001b[0m",
      "\u001b[0;31mAttributeError\u001b[0m                            Traceback (most recent call last)",
      "Cell \u001b[0;32mIn[1], line 67\u001b[0m\n\u001b[1;32m     65\u001b[0m \u001b[38;5;28;01mwhile\u001b[39;00m \u001b[38;5;241m1\u001b[39m:\n\u001b[1;32m     66\u001b[0m     schedule\u001b[38;5;241m.\u001b[39mrun_pending()\n\u001b[0;32m---> 67\u001b[0m     \u001b[43mtime\u001b[49m\u001b[38;5;241;43m.\u001b[39;49m\u001b[43msleep\u001b[49m\u001b[43m(\u001b[49m\u001b[38;5;241;43m1\u001b[39;49m\u001b[43m)\u001b[49m\n",
      "File \u001b[0;32m~/jupEnv/lib/python3.10/site-packages/pyspark/context.py:292\u001b[0m, in \u001b[0;36mSparkContext._do_init.<locals>.signal_handler\u001b[0;34m(signal, frame)\u001b[0m\n\u001b[1;32m    291\u001b[0m \u001b[38;5;28;01mdef\u001b[39;00m \u001b[38;5;21msignal_handler\u001b[39m(signal, frame):\n\u001b[0;32m--> 292\u001b[0m     \u001b[38;5;28;43mself\u001b[39;49m\u001b[38;5;241;43m.\u001b[39;49m\u001b[43mcancelAllJobs\u001b[49m\u001b[43m(\u001b[49m\u001b[43m)\u001b[49m\n\u001b[1;32m    293\u001b[0m     \u001b[38;5;28;01mraise\u001b[39;00m \u001b[38;5;167;01mKeyboardInterrupt\u001b[39;00m()\n",
      "File \u001b[0;32m~/jupEnv/lib/python3.10/site-packages/pyspark/context.py:1195\u001b[0m, in \u001b[0;36mSparkContext.cancelAllJobs\u001b[0;34m(self)\u001b[0m\n\u001b[1;32m   1191\u001b[0m \u001b[38;5;28;01mdef\u001b[39;00m \u001b[38;5;21mcancelAllJobs\u001b[39m(\u001b[38;5;28mself\u001b[39m):\n\u001b[1;32m   1192\u001b[0m \u001b[38;5;250m    \u001b[39m\u001b[38;5;124;03m\"\"\"\u001b[39;00m\n\u001b[1;32m   1193\u001b[0m \u001b[38;5;124;03m    Cancel all jobs that have been scheduled or are running.\u001b[39;00m\n\u001b[1;32m   1194\u001b[0m \u001b[38;5;124;03m    \"\"\"\u001b[39;00m\n\u001b[0;32m-> 1195\u001b[0m     \u001b[38;5;28;43mself\u001b[39;49m\u001b[38;5;241;43m.\u001b[39;49m\u001b[43m_jsc\u001b[49m\u001b[38;5;241;43m.\u001b[39;49m\u001b[43msc\u001b[49m()\u001b[38;5;241m.\u001b[39mcancelAllJobs()\n",
      "\u001b[0;31mAttributeError\u001b[0m: 'NoneType' object has no attribute 'sc'"
     ]
    }
   ],
   "source": [
    "from pymongo import MongoClient\n",
    "import pyspark\n",
    "from pyspark.sql import SparkSession\n",
    "from pyspark.sql import Row\n",
    "from pyspark.context import SparkContext\n",
    "import string\n",
    "import schedule\n",
    "import time\n",
    "import os\n",
    "\n",
    "def cleaning_func(x):\n",
    "\n",
    "    # lower case\n",
    "    # replace & with and\n",
    "    # remove punctuation\n",
    "    \n",
    "    x[\"title\"] = x[\"title\"].lower().replace(\"&\",\"and\").translate(str.maketrans('', '', string.punctuation))\n",
    "    if str(x[\"current_price\"]).lower() == 'nan':\n",
    "        x[\"current_price\"] = 0\n",
    "\n",
    "    if str(x[\"previous_price\"]).lower() == 'nan':\n",
    "        x[\"previous_price\"] = 0\n",
    "\n",
    "    return x\n",
    "\n",
    "def execute_spark_job():\n",
    "    print(\"-------------------------------- Job\")\n",
    "    client = MongoClient(\"149.165.172.75\", 60000)\n",
    "    db = client.shardDB\n",
    "    \n",
    "    c1 = db[\"asofashion_2\"]\n",
    "    c2 = db[\"asofashion_clean\"]\n",
    "    \n",
    "    \n",
    "    k = c1.aggregate([\n",
    "    {\"$match\":{\"_id\":{\"$exists\":1}}},\n",
    "    {\"$lookup\":{\"from\": \"asofashion_clean\",\n",
    "                \"localField\":\"_id\",\n",
    "                'foreignField' : '_id',\n",
    "                \"as\":\"missedWallet\"\n",
    "    }},\n",
    "    {\"$match\":{\"missedWallet.0\":{\"$exists\":0}}}\n",
    "    ]);\n",
    "    \n",
    "\n",
    "    input_data = list(k)\n",
    "    if(len(input_data) != 0 ):\n",
    "    \n",
    "        spark = SparkSession \\\n",
    "        .builder \\\n",
    "        .appName(\"mongodbtest1\") \\\n",
    "        .master(\"spark://10.1.174.144:7077\")\\\n",
    "        .getOrCreate()\n",
    "\n",
    "        clean_doc = spark.sparkContext.parallelize(input_data).map(cleaning_func).collect()\n",
    "        print(len(clean_doc))\n",
    "        c2.insert_many(clean_doc)\n",
    "        spark.stop()\n",
    "        \n",
    "    else:\n",
    "        print(\"data is upto date\")\n",
    "\n",
    "schedule.every(37).seconds.do(execute_spark_job)\n",
    "\n",
    "while 1:\n",
    "    schedule.run_pending()\n",
    "    time.sleep(1)\n"
   ]
  },
  {
   "cell_type": "code",
   "execution_count": null,
   "id": "0e1362f2-f243-471e-b294-28339894dd3a",
   "metadata": {},
   "outputs": [],
   "source": [
    "# execute_spark_job()"
   ]
  },
  {
   "cell_type": "code",
   "execution_count": null,
   "id": "3326b8b0-aa32-46b4-9547-49e9b42cf55b",
   "metadata": {},
   "outputs": [],
   "source": []
  }
 ],
 "metadata": {
  "kernelspec": {
   "display_name": "Python 3 (ipykernel)",
   "language": "python",
   "name": "python3"
  },
  "language_info": {
   "codemirror_mode": {
    "name": "ipython",
    "version": 3
   },
   "file_extension": ".py",
   "mimetype": "text/x-python",
   "name": "python",
   "nbconvert_exporter": "python",
   "pygments_lexer": "ipython3",
   "version": "3.10.12"
  }
 },
 "nbformat": 4,
 "nbformat_minor": 5
}
